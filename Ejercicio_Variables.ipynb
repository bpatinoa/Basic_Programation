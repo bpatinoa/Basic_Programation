{
  "nbformat": 4,
  "nbformat_minor": 0,
  "metadata": {
    "colab": {
      "provenance": [],
      "authorship_tag": "ABX9TyPFInuKv+Ck2xjmDhXy2BHM",
      "include_colab_link": true
    },
    "kernelspec": {
      "name": "python3",
      "display_name": "Python 3"
    },
    "language_info": {
      "name": "python"
    }
  },
  "cells": [
    {
      "cell_type": "markdown",
      "metadata": {
        "id": "view-in-github",
        "colab_type": "text"
      },
      "source": [
        "<a href=\"https://colab.research.google.com/github/bpatinoa/Basic_Programming/blob/main/Ejercicio_Variables.ipynb\" target=\"_parent\"><img src=\"https://colab.research.google.com/assets/colab-badge.svg\" alt=\"Open In Colab\"/></a>"
      ]
    },
    {
      "cell_type": "code",
      "execution_count": null,
      "metadata": {
        "id": "Qob4Dk1kJZRj"
      },
      "outputs": [],
      "source": []
    },
    {
      "cell_type": "markdown",
      "source": [
        "# 🧩 Ejercicios Avanzados de Variables en Python\n",
        "\n",
        "**Objetivo:** Trabajar con variables, operaciones matemáticas básicas, conversión de tipos (`int`, `float`, `str`, `bool`), `input()` y `print()`.\n",
        "\n",
        "**Nota:** No puedes usar condicionales (`if`), ciclos (`for`, `while`) ni funciones avanzadas.\n",
        "\n",
        "---\n",
        "\n",
        "## 🧪 Nivel 1 - Operaciones combinadas\n",
        "\n",
        "1. **Cálculo de sueldo mensual:**\n",
        "   - Pide al usuario su sueldo por hora.\n",
        "   - Pide cuántas horas trabaja en un día.\n",
        "   - Pide cuántos días trabaja en el mes.\n",
        "   - Calcula y muestra el sueldo total del mes.\n",
        "\n",
        "2. **Edad en diferentes unidades:**\n",
        "   - Pide al usuario su edad en años.\n",
        "   - Calcula y muestra:\n",
        "     - Edad en meses (aproximando 1 año = 12 meses).\n",
        "     - Edad en semanas (1 año = 52 semanas).\n",
        "     - Edad en días (1 año = 365 días).\n",
        "\n",
        "3. **Promedio ponderado de calificaciones:**\n",
        "   - Pide tres calificaciones y sus respectivos porcentajes de peso (por ejemplo, 0.3, 0.5, 0.2).\n",
        "   - Calcula el promedio ponderado: `(nota1 * peso1) + (nota2 * peso2) + (nota3 * peso3)`.\n",
        "   - Muestra el resultado.\n",
        "\n",
        "4. **Conversión múltiple de tipos:**\n",
        "   - Pide un número decimal.\n",
        "   - Convierte primero a entero (`int`), luego a cadena (`str`), luego a booleano (`bool`).\n",
        "   - Muestra cada valor convertido.\n",
        "\n",
        "5. **Costo total de una compra:**\n",
        "   - Pide el precio de un producto.\n",
        "   - Pide la cantidad que quiere comprar.\n",
        "   - Calcula el total a pagar.\n",
        "   - Además, agrega un 5% de impuesto al valor total.\n",
        "   - Muestra el total final con impuesto.\n",
        "\n",
        "---\n",
        "\n",
        "## 🧪 Nivel 2 - Razonamiento matemático\n",
        "\n",
        "6. **Conversión de temperatura:**\n",
        "   - Pide una temperatura en grados Celsius.\n",
        "   - Convierte a grados Fahrenheit usando la fórmula: `F = (C * 9/5) + 32`.\n",
        "   - Muestra el resultado.\n",
        "\n",
        "7. **División de una cuenta:**\n",
        "   - Pide el valor total de una cuenta de restaurante.\n",
        "   - Pide cuántas personas dividirán la cuenta.\n",
        "   - Calcula cuánto debe pagar cada uno.\n",
        "   - Muestra el resultado.\n",
        "\n",
        "8. **Conversión de horas:**\n",
        "   - Pide una cantidad de horas al usuario.\n",
        "   - Calcula y muestra:\n",
        "     - Total de minutos (1 hora = 60 minutos).\n",
        "     - Total de segundos (1 minuto = 60 segundos).\n",
        "\n",
        "9. **Conversión de dinero:**\n",
        "   - Pide una cantidad en dólares.\n",
        "   - Pide la tasa de cambio a pesos colombianos.\n",
        "   - Calcula y muestra cuántos pesos recibiría.\n",
        "\n",
        "10. **Operaciones encadenadas:**\n",
        "    - Pide tres números.\n",
        "    - Calcula el resultado de la operación: `(número1 + número2) * número3`.\n",
        "    - Muestra el resultado.\n",
        "\n",
        "---\n",
        "\n",
        "## 🧪 Nivel 3 - Pensamiento lógico sin condicionales\n",
        "\n",
        "11. **Rendimiento de gasolina:**\n",
        "    - Pide los litros de gasolina que tiene un automóvil.\n",
        "    - Pide el consumo por kilómetro (cuántos litros usa por km).\n",
        "    - Calcula cuántos kilómetros puede recorrer.\n",
        "    - Muestra el resultado.\n",
        "\n",
        "12. **Conversión de un préstamo:**\n",
        "    - Pide cuánto dinero deseas pedir prestado.\n",
        "    - Pide el interés mensual (porcentaje).\n",
        "    - Calcula y muestra cuánto deberías pagar al final de un mes.\n",
        "\n",
        "13. **Separación de una cifra:**\n",
        "    - Pide un número de dos cifras (por ejemplo 47).\n",
        "    - Usa operaciones matemáticas para separar el número en sus dos dígitos (4 y 7).\n",
        "    - Muestra ambos dígitos por separado.\n",
        "\n",
        "14. **Calculadora de IMC:**\n",
        "    - Pide el peso en kilogramos y la altura en metros.\n",
        "    - Calcula el Índice de Masa Corporal (IMC) usando la fórmula: `peso / (altura * altura)`.\n",
        "    - Muestra el resultado.\n",
        "\n",
        "15. **Operación compleja:**\n",
        "    - Pide cuatro números al usuario.\n",
        "    - Realiza la siguiente operación: `((número1 + número2) / (número3 + número4)) * 100`.\n",
        "    - Muestra el resultado.\n",
        "\n",
        "---\n"
      ],
      "metadata": {
        "id": "obuG4kDeJdeS"
      }
    }
  ]
}
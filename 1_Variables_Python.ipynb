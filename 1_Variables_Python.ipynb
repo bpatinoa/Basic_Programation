{
  "cells": [
    {
      "cell_type": "markdown",
      "metadata": {
        "id": "CY3REa3O8ldU"
      },
      "source": [
        "\n",
        "#Introduction to Python Notebooks - Google Colab\n",
        "\n",
        "\n",
        "\n"
      ]
    },
    {
      "cell_type": "markdown",
      "source": [
        "## 🧩 Sección 0: Introduction"
      ],
      "metadata": {
        "id": "V_S-E_tDtSeW"
      }
    },
    {
      "cell_type": "markdown",
      "metadata": {
        "id": "qePyAGJG8sZF"
      },
      "source": [
        "In Python, you don't have to declare the data type for variables like in other programming languages. When you assign a value to a variable, Python automatically determines its data type based on the assigned value. However, the basic data types in Python are as follows:\n",
        "\n",
        "1. Integer (int): Represents whole numbers without decimals, such as 5, -10, or 0.\n",
        "\n",
        "2. Float: Represents numbers with decimal points, such as 3.14, -2.5, or 0.0.\n",
        "\n",
        "3. String (str): Represents a sequence of characters enclosed in single quotes ('a') or double quotes (\"a\"). For example, \"Hello, World!\" or 'Python'.\n",
        "\n",
        "4. Boolean (bool): Represents either True or False. It is used for logical operations and conditional statements.\n",
        "\n",
        "5. List: Represents an ordered collection of items enclosed in square brackets ([]). Lists can contain elements of different data types and are mutable (modifiable).\n",
        "\n",
        "6. Tuple: Similar to lists, tuples are also ordered collections of items, but they are enclosed in parentheses (()). Tuples are immutable (cannot be modified).\n",
        "\n",
        "7. Dictionary (dict): Represents a collection of key-value pairs enclosed in curly braces ({}). Each value is associated with a unique key, allowing fast retrieval of values.\n",
        "\n",
        "8. Set: Represents an unordered collection of unique elements enclosed in curly braces ({}). Sets are useful for eliminating duplicate values and performing mathematical set operations.\n",
        "\n",
        "These are the basic data types in Python, and they provide the foundation for more complex data structures and objects."
      ]
    },
    {
      "cell_type": "code",
      "execution_count": null,
      "metadata": {
        "id": "rSWRG-M_9BQr"
      },
      "outputs": [],
      "source": [
        "a = 2  # Integer type\n",
        "b = a + 3\n",
        "\n",
        "f = 0.176  # Float type\n",
        "\n",
        "condition = True  # Boolean type\n",
        "\n",
        "s = \"Hello\"  # String type"
      ]
    },
    {
      "cell_type": "code",
      "execution_count": null,
      "metadata": {
        "colab": {
          "base_uri": "https://localhost:8080/"
        },
        "id": "2kGCqjPnAhYg",
        "outputId": "aa0c8ab7-90e0-4fb6-95e5-0a4440e66d08"
      },
      "outputs": [
        {
          "data": {
            "text/plain": [
              "int"
            ]
          },
          "execution_count": 2,
          "metadata": {},
          "output_type": "execute_result"
        }
      ],
      "source": [
        "type(a) #type function print the variable type"
      ]
    },
    {
      "cell_type": "code",
      "execution_count": null,
      "metadata": {
        "colab": {
          "base_uri": "https://localhost:8080/"
        },
        "id": "Jcif8WDhBWJ3",
        "outputId": "b8f6502c-549e-40a9-ae50-a21b8e5fb486"
      },
      "outputs": [
        {
          "data": {
            "text/plain": [
              "int"
            ]
          },
          "execution_count": 3,
          "metadata": {},
          "output_type": "execute_result"
        }
      ],
      "source": [
        "type(b)"
      ]
    },
    {
      "cell_type": "code",
      "execution_count": null,
      "metadata": {
        "colab": {
          "base_uri": "https://localhost:8080/"
        },
        "id": "X7UjciSnBAdL",
        "outputId": "3b363f34-144e-4281-df71-0f1ff27fd292"
      },
      "outputs": [
        {
          "data": {
            "text/plain": [
              "float"
            ]
          },
          "execution_count": 4,
          "metadata": {},
          "output_type": "execute_result"
        }
      ],
      "source": [
        "type(f)"
      ]
    },
    {
      "cell_type": "code",
      "execution_count": null,
      "metadata": {
        "colab": {
          "base_uri": "https://localhost:8080/"
        },
        "id": "vPQm2VaBBCni",
        "outputId": "a7006903-451a-4332-a365-b5e189766951"
      },
      "outputs": [
        {
          "data": {
            "text/plain": [
              "bool"
            ]
          },
          "execution_count": 6,
          "metadata": {},
          "output_type": "execute_result"
        }
      ],
      "source": [
        "type(condition)"
      ]
    },
    {
      "cell_type": "code",
      "execution_count": null,
      "metadata": {
        "colab": {
          "base_uri": "https://localhost:8080/"
        },
        "id": "6TTtTmCkBHNL",
        "outputId": "03271587-6906-4150-f735-20ae42b7522e"
      },
      "outputs": [
        {
          "data": {
            "text/plain": [
              "str"
            ]
          },
          "execution_count": 7,
          "metadata": {},
          "output_type": "execute_result"
        }
      ],
      "source": [
        "type(s)"
      ]
    },
    {
      "cell_type": "markdown",
      "metadata": {
        "id": "nzJTHGf8Bers"
      },
      "source": [
        "What happens if we add an int with a float?"
      ]
    },
    {
      "cell_type": "code",
      "execution_count": null,
      "metadata": {
        "colab": {
          "base_uri": "https://localhost:8080/"
        },
        "id": "fxiyqBVlBYrZ",
        "outputId": "604f61ec-3027-4952-8743-a86d052bbbc6"
      },
      "outputs": [
        {
          "data": {
            "text/plain": [
              "5.176"
            ]
          },
          "execution_count": 8,
          "metadata": {},
          "output_type": "execute_result"
        }
      ],
      "source": [
        "x = b + f\n",
        "x"
      ]
    },
    {
      "cell_type": "code",
      "execution_count": null,
      "metadata": {
        "colab": {
          "base_uri": "https://localhost:8080/"
        },
        "id": "n0dSEoBEBbiT",
        "outputId": "46ddc75f-4c60-4106-898a-dc5fe11ec955"
      },
      "outputs": [
        {
          "data": {
            "text/plain": [
              "float"
            ]
          },
          "execution_count": 9,
          "metadata": {},
          "output_type": "execute_result"
        }
      ],
      "source": [
        "type(x)"
      ]
    },
    {
      "cell_type": "markdown",
      "metadata": {
        "id": "qhmzXdWEBkts"
      },
      "source": [
        "Another handy tool is the ability to convert data types.\n",
        "For instance, by converting x to an integer, we obtain only its integer part."
      ]
    },
    {
      "cell_type": "code",
      "execution_count": null,
      "metadata": {
        "colab": {
          "base_uri": "https://localhost:8080/"
        },
        "id": "9urmEVBeB2O7",
        "outputId": "4f492881-ed56-4359-fc2e-b926988190c5"
      },
      "outputs": [
        {
          "data": {
            "text/plain": [
              "5"
            ]
          },
          "execution_count": 10,
          "metadata": {},
          "output_type": "execute_result"
        }
      ],
      "source": [
        "x2 = int(x) #variable casting\n",
        "x2"
      ]
    },
    {
      "cell_type": "code",
      "execution_count": null,
      "metadata": {
        "colab": {
          "base_uri": "https://localhost:8080/"
        },
        "id": "5vO6QIlA2YJC",
        "outputId": "52446be0-845c-4b5c-ac04-fb92593a4c9c"
      },
      "outputs": [
        {
          "data": {
            "text/plain": [
              "int"
            ]
          },
          "execution_count": 11,
          "metadata": {},
          "output_type": "execute_result"
        }
      ],
      "source": [
        "type(x2)"
      ]
    },
    {
      "cell_type": "markdown",
      "metadata": {
        "id": "hUTYPuqRB7JS"
      },
      "source": [
        "For boolean variables, their representation as integers can be useful for certain applications. The correspondence is as follows:\n",
        "\n",
        "True $\\neq$ 0 (More commonly represented as 1)\n",
        "\n",
        "False = 0"
      ]
    },
    {
      "cell_type": "code",
      "execution_count": null,
      "metadata": {
        "colab": {
          "base_uri": "https://localhost:8080/"
        },
        "id": "m7aHnSweB6Yy",
        "outputId": "e571524b-04c4-4cb0-9d3d-6907e17ffc9d"
      },
      "outputs": [
        {
          "data": {
            "text/plain": [
              "1"
            ]
          },
          "execution_count": 12,
          "metadata": {},
          "output_type": "execute_result"
        }
      ],
      "source": [
        "condicion_int = int(condition)\n",
        "condicion_int"
      ]
    },
    {
      "cell_type": "code",
      "execution_count": null,
      "metadata": {
        "colab": {
          "base_uri": "https://localhost:8080/"
        },
        "id": "7fswi5YgCP1x",
        "outputId": "a3310e39-0841-43a0-ac61-2a311d55796f"
      },
      "outputs": [
        {
          "data": {
            "text/plain": [
              "True"
            ]
          },
          "execution_count": 13,
          "metadata": {},
          "output_type": "execute_result"
        }
      ],
      "source": [
        "c = 5\n",
        "condicion_2 = bool(c)\n",
        "condicion_2"
      ]
    },
    {
      "cell_type": "code",
      "execution_count": null,
      "metadata": {
        "colab": {
          "base_uri": "https://localhost:8080/"
        },
        "id": "14KqhWnGCwgP",
        "outputId": "28417a88-a53b-4787-bcec-78b6cbee0a00"
      },
      "outputs": [
        {
          "data": {
            "text/plain": [
              "False"
            ]
          },
          "execution_count": 14,
          "metadata": {},
          "output_type": "execute_result"
        }
      ],
      "source": [
        "c = 0\n",
        "condicion_2 = bool(c)\n",
        "condicion_2"
      ]
    },
    {
      "cell_type": "markdown",
      "metadata": {
        "id": "ZhNkkPAAIDDO"
      },
      "source": [
        "Two of the main commands used to interact with the console are: print() and input()."
      ]
    },
    {
      "cell_type": "markdown",
      "metadata": {
        "id": "W5sOen9pJXY0"
      },
      "source": [
        "The print() command allows us to display variables as well as the text that is provided as an argument on the screen."
      ]
    },
    {
      "cell_type": "code",
      "execution_count": null,
      "metadata": {
        "colab": {
          "base_uri": "https://localhost:8080/"
        },
        "id": "BU-dHeM0Jl7l",
        "outputId": "f81189ad-ae7e-486d-f747-49416b92dc2a"
      },
      "outputs": [
        {
          "name": "stdout",
          "output_type": "stream",
          "text": [
            "This is the message to be printed.\n",
            "In this case, it has two lines.\n"
          ]
        }
      ],
      "source": [
        "print(\"This is the message to be printed.\\nIn this case, it has two lines.\") #\\n print a new line"
      ]
    },
    {
      "cell_type": "code",
      "execution_count": null,
      "metadata": {
        "colab": {
          "base_uri": "https://localhost:8080/"
        },
        "id": "vk4hdmzRJ6R-",
        "outputId": "51d0cd27-c848-438e-8dc4-ce1cc4dcbfa2"
      },
      "outputs": [
        {
          "name": "stdout",
          "output_type": "stream",
          "text": [
            "5\n"
          ]
        }
      ],
      "source": [
        "print(b)"
      ]
    },
    {
      "cell_type": "code",
      "execution_count": null,
      "metadata": {
        "colab": {
          "base_uri": "https://localhost:8080/"
        },
        "id": "fzPS0Fh_KCig",
        "outputId": "639704fa-9f58-40f9-c696-de2f5e3ecb2d"
      },
      "outputs": [
        {
          "name": "stdout",
          "output_type": "stream",
          "text": [
            "True\n"
          ]
        }
      ],
      "source": [
        "print(condition)"
      ]
    },
    {
      "cell_type": "markdown",
      "metadata": {
        "id": "4Mrq_tb6KYEw"
      },
      "source": [
        "On the other hand, the input() command can also display a message on the screen, but it will be displayed before the input field where the value, which will be stored in a string variable, is entered."
      ]
    },
    {
      "cell_type": "code",
      "execution_count": null,
      "metadata": {
        "colab": {
          "base_uri": "https://localhost:8080/",
          "height": 53
        },
        "id": "BVX98Bx8LPs_",
        "outputId": "1933b803-927d-4637-8b72-7b6787506e60"
      },
      "outputs": [
        {
          "name": "stdout",
          "output_type": "stream",
          "text": [
            "Input a number please: 5\n"
          ]
        },
        {
          "data": {
            "application/vnd.google.colaboratory.intrinsic+json": {
              "type": "string"
            },
            "text/plain": [
              "'5'"
            ]
          },
          "execution_count": 18,
          "metadata": {},
          "output_type": "execute_result"
        }
      ],
      "source": [
        "y = input(\"Input a number please: \")\n",
        "y"
      ]
    },
    {
      "cell_type": "code",
      "execution_count": null,
      "metadata": {
        "colab": {
          "base_uri": "https://localhost:8080/"
        },
        "id": "9JbU9M5rN_Vt",
        "outputId": "1048e3e1-e9b9-45c5-e1a4-450f6ac4310b"
      },
      "outputs": [
        {
          "data": {
            "text/plain": [
              "str"
            ]
          },
          "execution_count": 20,
          "metadata": {},
          "output_type": "execute_result"
        }
      ],
      "source": [
        "type(y) #note that a str is captured, you need to privide a casting to convert it to a number if needed"
      ]
    },
    {
      "cell_type": "markdown",
      "metadata": {
        "id": "QG5TxjW-OWqY"
      },
      "source": [
        "\n",
        "Basic arithmetic operations:"
      ]
    },
    {
      "cell_type": "code",
      "execution_count": null,
      "metadata": {
        "colab": {
          "base_uri": "https://localhost:8080/"
        },
        "id": "AUJtIrleRIdQ",
        "outputId": "4256889c-66cf-4b69-e0a4-39a22c58cb9b"
      },
      "outputs": [
        {
          "data": {
            "text/plain": [
              "7.0"
            ]
          },
          "execution_count": 21,
          "metadata": {},
          "output_type": "execute_result"
        }
      ],
      "source": [
        "a = 2 + 4.5 + 3\n",
        "b = a - 2.5 # . holds decimal operator\n",
        "b"
      ]
    },
    {
      "cell_type": "code",
      "execution_count": null,
      "metadata": {
        "colab": {
          "base_uri": "https://localhost:8080/"
        },
        "id": "pzLN54zIRPMw",
        "outputId": "943c6c0c-eb24-4919-a75c-f351baff4ba9"
      },
      "outputs": [
        {
          "data": {
            "text/plain": [
              "(24, 4.0)"
            ]
          },
          "execution_count": 22,
          "metadata": {},
          "output_type": "execute_result"
        }
      ],
      "source": [
        "a = 3*8 # Multiplication maintains the data type if it is an integer\n",
        "b = a/6 # Division automatically converts it to a float even if it is exact\n",
        "a, b"
      ]
    },
    {
      "cell_type": "code",
      "execution_count": null,
      "metadata": {
        "colab": {
          "base_uri": "https://localhost:8080/"
        },
        "id": "hPtAUG8ASYWB",
        "outputId": "1879901a-c276-40c6-ea54-4a0271052b65"
      },
      "outputs": [
        {
          "data": {
            "text/plain": [
              "4"
            ]
          },
          "execution_count": 24,
          "metadata": {},
          "output_type": "execute_result"
        }
      ],
      "source": [
        "a = 2**2 # ** power operator\n",
        "a"
      ]
    },
    {
      "cell_type": "code",
      "execution_count": null,
      "metadata": {
        "colab": {
          "base_uri": "https://localhost:8080/"
        },
        "id": "cxjxYCBVSbp0",
        "outputId": "98b17fbb-3e7f-4556-f9e0-8aa939e8d8be"
      },
      "outputs": [
        {
          "data": {
            "text/plain": [
              "3.0"
            ]
          },
          "execution_count": 25,
          "metadata": {},
          "output_type": "execute_result"
        }
      ],
      "source": [
        "b = 9**(1/2)\n",
        "b"
      ]
    },
    {
      "cell_type": "markdown",
      "metadata": {
        "id": "Q-Zz-FXuSkuC"
      },
      "source": [
        "\n",
        "This is a way to calculate square roots without using any library.\n",
        "In general, for more advanced calculations, numpy and sympy are commonly used."
      ]
    },
    {
      "cell_type": "markdown",
      "metadata": {
        "id": "cbfd8320"
      },
      "source": [
        "\n",
        "## 🧠 Sección 1: Actividades para Comprender Mejor las Variables en Python\n",
        "\n",
        "Estas actividades te ayudarán a reforzar el concepto de variables en Python. Te invito a resolver cada uno modificando el código según las instrucciones.\n"
      ]
    },
    {
      "cell_type": "markdown",
      "metadata": {
        "id": "13519b53"
      },
      "source": [
        "\n",
        "### 🧪 Actividad 1: Cambia el valor\n",
        "\n",
        "Edita la variable `x` para que el resultado final sea `42`.\n"
      ]
    },
    {
      "cell_type": "code",
      "execution_count": null,
      "metadata": {
        "id": "85748137"
      },
      "outputs": [],
      "source": [
        "\n",
        "x = 0  # <-- Cambia este valor\n",
        "resultado = x + 10\n",
        "print(\"Resultado:\", resultado)\n"
      ]
    },
    {
      "cell_type": "markdown",
      "metadata": {
        "id": "06d19bf2"
      },
      "source": [
        "\n",
        "### 🔁 Actividad 2: Intercambiar valores\n",
        "\n",
        "Usa una variable auxiliar para intercambiar los valores de `a` y `b`.\n"
      ]
    },
    {
      "cell_type": "code",
      "execution_count": null,
      "metadata": {
        "id": "089086c1"
      },
      "outputs": [],
      "source": [
        "\n",
        "a = 5\n",
        "b = 10\n",
        "\n",
        "# Escribe aquí el código para intercambiar los valores\n",
        "# Debes usar una tercera variable auxiliar\n",
        "\n",
        "print(\"a =\", a)\n",
        "print(\"b =\", b)\n"
      ]
    },
    {
      "cell_type": "markdown",
      "metadata": {
        "id": "d14296bb"
      },
      "source": [
        "\n",
        "### 🧮 Actividad 3: Calculadora de área de un triángulo\n",
        "\n",
        "Usa variables para calcular el área de un triángulo con base y altura dadas.\n"
      ]
    },
    {
      "cell_type": "code",
      "execution_count": null,
      "metadata": {
        "id": "be94deaa"
      },
      "outputs": [],
      "source": [
        "\n",
        "base = 8\n",
        "altura = 5\n",
        "\n",
        "# Calcula el área usando la fórmula: (base * altura) / 2\n",
        "area = 0  # <-- Cambia esta línea\n",
        "\n",
        "print(\"Área del triángulo:\", area)\n"
      ]
    },
    {
      "cell_type": "markdown",
      "metadata": {
        "id": "af62ebca"
      },
      "source": [
        "\n",
        "## ⚛️ Sección 2: Variables y Computación Cuántica\n",
        "\n",
        "Estas actividades muestran cómo los conceptos de variables en Python pueden ayudarnos a modelar ideas de la computación cuántica.\n"
      ]
    },
    {
      "cell_type": "markdown",
      "metadata": {
        "id": "0973293f"
      },
      "source": [
        "\n",
        "### 🧊 Ejercicio 1: Representación simbólica de estados cuánticos\n",
        "\n",
        "Simula los estados clásicos y una superposición simbólica de un qubit.\n"
      ]
    },
    {
      "cell_type": "code",
      "execution_count": null,
      "metadata": {
        "id": "cb143a9a"
      },
      "outputs": [],
      "source": [
        "\n",
        "# Estado clásico\n",
        "qubit_0 = 0\n",
        "qubit_1 = 1\n",
        "\n",
        "# Superposición (simulada como string)\n",
        "superposition = \"0 + 1\"\n",
        "\n",
        "print(\"Qubit en estado 0:\", qubit_0)\n",
        "print(\"Qubit en estado 1:\", qubit_1)\n",
        "print(\"Estado en superposición (simbólico):\", superposition)\n"
      ]
    },
    {
      "cell_type": "markdown",
      "metadata": {
        "id": "617c8691"
      },
      "source": [
        "\n",
        "### 🔢 Ejercicio 2: Probabilidad de estados cuánticos\n",
        "\n",
        "Representa las probabilidades de un qubit en estado |0⟩ y |1⟩. La suma debe dar 1.0.\n"
      ]
    },
    {
      "cell_type": "code",
      "execution_count": null,
      "metadata": {
        "id": "fc1e96af"
      },
      "outputs": [],
      "source": [
        "\n",
        "p_0 = 0.6\n",
        "p_1 = 0.4\n",
        "\n",
        "total = p_0 + p_1\n",
        "\n",
        "print(\"Probabilidad total:\", total)\n"
      ]
    },
    {
      "cell_type": "markdown",
      "metadata": {
        "id": "b7fb4810"
      },
      "source": [
        "\n",
        "### ⌨️ Ejercicio 3: Notación Dirac\n",
        "\n",
        "Usa variables para almacenar estados cuánticos en notación de Dirac.\n"
      ]
    },
    {
      "cell_type": "code",
      "execution_count": null,
      "metadata": {
        "id": "c29cedbc"
      },
      "outputs": [],
      "source": [
        "\n",
        "ket_0 = \"|0⟩\"\n",
        "ket_1 = \"|1⟩\"\n",
        "\n",
        "print(\"Estado base 1:\", ket_0)\n",
        "print(\"Estado base 2:\", ket_1)\n"
      ]
    },
    {
      "cell_type": "markdown",
      "metadata": {
        "id": "fe0JX6B0TEjG"
      },
      "source": [
        "## 📈 Sección 3: Exercises"
      ]
    },
    {
      "cell_type": "markdown",
      "metadata": {
        "id": "96blkWptzDmu"
      },
      "source": [
        "\n",
        "1. Write a program that displays the result of the following arithmetic operation on the screen: $x(t) = \\left(\\frac{3+2}{2.5}\\right)^2$\n",
        "\n",
        "2. Write a program that asks the user for the number of hours worked and the hourly rate. Then, it should display on the screen the corresponding payment.\n",
        "\n",
        "3. Write a program that asks the user for their weight (in kg) and height (in meters), calculates the body mass index (BMI), stores it in a variable, and displays the message \"Your body mass index is imc\" on the screen, where imc is the calculated BMI rounded to two decimal places."
      ]
    },
    {
      "cell_type": "markdown",
      "metadata": {
        "id": "pwWLNV4zz5di"
      },
      "source": [
        "Developed by:\n",
        "\n",
        "- Brian Patino Agudelo - bpatinoa@unal.edu.co\n",
        "\n",
        "- Andrés Marino Álvarez Meza - amalvarezme@unal.edu.co\n",
        "\n",
        "- César Germán Castellanos Domínguez - cgcastellanosd@unal.edu.co"
      ]
    }
  ],
  "metadata": {
    "colab": {
      "provenance": []
    },
    "kernelspec": {
      "display_name": "Python 3",
      "name": "python3"
    },
    "language_info": {
      "name": "python"
    }
  },
  "nbformat": 4,
  "nbformat_minor": 0
}

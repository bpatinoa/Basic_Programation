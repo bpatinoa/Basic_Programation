{
  "cells": [
    {
      "cell_type": "markdown",
      "metadata": {
        "id": "uRd8KNK1kQsX"
      },
      "source": [
        "## 🧩 Sección 0: Introducción\n",
        "\n",
        "We'll understand the logic about loops"
      ]
    },
    {
      "cell_type": "markdown",
      "metadata": {
        "id": "Lq8CRypykvSx"
      },
      "source": [
        "In Python, we have two structures for loops: the for loop and the while loop (there is no do-while loop)."
      ]
    },
    {
      "cell_type": "markdown",
      "metadata": {
        "id": "3Z9f8FGZmx-c"
      },
      "source": [
        "\n",
        "It is important to have a clear understanding of the concepts of a counter and an accumulator, as they are essential when working with any type of loop.\n",
        "\n",
        "A counter is a variable that keeps track of the number of times a particular event or condition occurs. It is commonly used in loops to control the iteration process. The counter is usually initialized before the loop starts and is incremented or decremented with each iteration.\n",
        "\n",
        "An accumulator, on the other hand, is a variable that accumulates or collects values over multiple iterations of a loop. It is often used to calculate a sum, a product, or any other aggregate value based on the values obtained during each iteration of the loop. The accumulator is typically initialized before the loop and updated within the loop body.\n",
        "\n",
        "Both counters and accumulators play crucial roles in controlling and managing the flow of a loop, allowing you to perform specific actions based on the current state or progress of the loop iteration."
      ]
    },
    {
      "cell_type": "markdown",
      "metadata": {
        "id": "Mrm12NZVqkuI"
      },
      "source": [
        "### While"
      ]
    },
    {
      "cell_type": "markdown",
      "metadata": {
        "id": "WJfkhkJqqoeg"
      },
      "source": [
        "\n",
        "They are also called indeterminate loops, and they are used when we know the condition that must be met to end the loop, but we do not know how many times or how long it will take."
      ]
    },
    {
      "cell_type": "code",
      "execution_count": null,
      "metadata": {
        "colab": {
          "base_uri": "https://localhost:8080/"
        },
        "id": "DA7VKxA1r7Nr",
        "outputId": "735c9bd0-4ce9-4fa2-fdf9-02b223894b8c"
      },
      "outputs": [
        {
          "name": "stdout",
          "output_type": "stream",
          "text": [
            "Instructions inside the loop\n",
            "Instructions outside the loop\n"
          ]
        }
      ],
      "source": [
        "condition = 1\n",
        "while condition:\n",
        "  print('Instructions inside the loop')\n",
        "  condition = 0\n",
        "print('Instructions outside the loop')"
      ]
    },
    {
      "cell_type": "markdown",
      "metadata": {
        "id": "yaBIfZnxsDkm"
      },
      "source": [
        "The structure of the loop is very simple, as the only thing that needs to be specified is the condition that must be met to continue in the loop. Essentially, it functions similarly to a conditional if() statement, except that the code inside the loop will be executed as many times as necessary as long as the condition is true."
      ]
    },
    {
      "cell_type": "markdown",
      "metadata": {
        "id": "WPIk5_K98Zm_"
      },
      "source": [
        "Since the loop can be understood as a conditional statement, it works in the same way for boolean values, as well as for the values 1 and 0 explained in other materials."
      ]
    },
    {
      "cell_type": "code",
      "execution_count": null,
      "metadata": {
        "colab": {
          "base_uri": "https://localhost:8080/"
        },
        "id": "hyjsllWj8mxh",
        "outputId": "3bb31515-af1f-4aea-b2fd-496287e20ed0"
      },
      "outputs": [
        {
          "name": "stdout",
          "output_type": "stream",
          "text": [
            "Choose an option:\n",
            "1. ---\n",
            "2. ---\n",
            "0. Exit\n",
            "\n",
            "\n",
            "1\n",
            "Choose an option:\n",
            "1. ---\n",
            "2. ---\n",
            "0. Exit\n",
            "\n",
            "\n",
            "2\n",
            "Choose an option:\n",
            "1. ---\n",
            "2. ---\n",
            "0. Exit\n",
            "\n",
            "\n",
            "0\n"
          ]
        }
      ],
      "source": [
        "\n",
        "a = 1\n",
        "while a:\n",
        "  print(\"Choose an option:\\n1. ---\\n2. ---\\n0. Exit\\n\\n\")\n",
        "  a = int(input())\n"
      ]
    },
    {
      "cell_type": "markdown",
      "metadata": {
        "id": "7aMLABfg-56z"
      },
      "source": [
        "\n",
        "In the previous example, we relied on the value of 'a' itself as the condition for the loop.\n",
        "\n",
        "However, assigning a value beforehand can sometimes cause issues.\n",
        "\n",
        "Another way to do it is by directly performing a comparison as the loop condition."
      ]
    },
    {
      "cell_type": "code",
      "execution_count": null,
      "metadata": {
        "colab": {
          "base_uri": "https://localhost:8080/"
        },
        "id": "XbbgoZmy-peb",
        "outputId": "15610284-8f71-4a31-d33d-22cc80a0c756"
      },
      "outputs": [
        {
          "name": "stdout",
          "output_type": "stream",
          "text": [
            "Enter an integer number. 0 to finish: 4\n",
            "Enter an integer number. 0 to finish: 5\n",
            "Enter an integer number. 0 to finish: 0\n",
            "End of the program.\n"
          ]
        }
      ],
      "source": [
        "number = int(input('Enter an integer number. 0 to finish: '))\n",
        "\n",
        "while number != 0:\n",
        "    number = int(input('Enter an integer number. 0 to finish: '))\n",
        "\n",
        "print('End of the program.')"
      ]
    },
    {
      "cell_type": "markdown",
      "metadata": {
        "id": "Zo4CJm8Y1F6v"
      },
      "source": [
        "Then, it is possible to use infinite loops like while(True) or while(1) if something is required to run all the time.\n",
        "\n",
        "Though it is not ideal to use it with the while() loop, it exists the statement break, which allows to get out of the loop in the previous scenaries, in case that it is critical not to run the remaining lines before ending the loop."
      ]
    },
    {
      "cell_type": "markdown",
      "metadata": {
        "id": "pzRE4NGG3BzJ"
      },
      "source": [
        "A common error using while() loops consists of not updating the control variable, thus creating a non intentional infinite loop (a bug in the code)."
      ]
    },
    {
      "cell_type": "code",
      "execution_count": null,
      "metadata": {
        "colab": {
          "base_uri": "https://localhost:8080/"
        },
        "id": "_Nue_w3kD8hM",
        "outputId": "e3e47a1c-650b-4747-90b2-52ed4c86513b"
      },
      "outputs": [
        {
          "name": "stdout",
          "output_type": "stream",
          "text": [
            "¡Hello world!\n",
            "¡Hello world!\n",
            "¡Hello world!\n",
            "¡Hello world!\n",
            "¡Hello world!\n",
            "¡Hello world!\n",
            "¡Hello world!\n",
            "¡Hello world!\n",
            "¡Hello world!\n",
            "¡Hello world!\n",
            "¡Hello world!\n",
            "¡Hello world!\n",
            "¡Hello world!\n",
            "¡Hello world!\n",
            "¡Hello world!\n"
          ]
        }
      ],
      "source": [
        "i = 0\n",
        "\n",
        "# Run this loop as long as i is less than 15\n",
        "while i < 15:\n",
        "    # Show a message\n",
        "    print(\"¡Hello world!\")\n",
        "    i+=1\n",
        "\n"
      ]
    },
    {
      "cell_type": "code",
      "execution_count": null,
      "metadata": {
        "colab": {
          "base_uri": "https://localhost:8080/"
        },
        "id": "czWXNiR63RrX",
        "outputId": "783d886e-f3d7-45b4-ea4b-94d5974b2c42"
      },
      "outputs": [
        {
          "data": {
            "text/plain": [
              "0"
            ]
          },
          "execution_count": 8,
          "metadata": {},
          "output_type": "execute_result"
        }
      ],
      "source": [
        "4%2 #the % operator give you the residual between the numbers!"
      ]
    },
    {
      "cell_type": "markdown",
      "metadata": {
        "id": "44UnVO99qBW8"
      },
      "source": [
        "### For"
      ]
    },
    {
      "cell_type": "markdown",
      "metadata": {
        "id": "ctcL3DMt5sW0"
      },
      "source": [
        "for() loops are used to have complete control of how many iterations will be done.\n",
        "\n",
        "It is necessary to have an \"initial\" value and a \"final\" value.\n",
        "\n",
        "Optionally we can have a determined step size.\n",
        "\n",
        "Opposite to C, for example, where we have all of these arguments in the loop statement, in Python we have to use the [range](https://www.w3schools.com/python/ref_func_range.asp) function."
      ]
    },
    {
      "cell_type": "code",
      "execution_count": null,
      "metadata": {
        "id": "ClsJH4_skOmN"
      },
      "outputs": [],
      "source": [
        "#for counter_variable in range(initial_value, final_value, step_size):\n",
        "\n",
        "    # code within the loop\n",
        "\n",
        "\n",
        "# code out of the loop"
      ]
    },
    {
      "cell_type": "markdown",
      "metadata": {
        "id": "l0Jan_9Y7mrC"
      },
      "source": [
        "For example, it we want a code to show all the even numbers from 900 to 1000, we have:"
      ]
    },
    {
      "cell_type": "code",
      "execution_count": null,
      "metadata": {
        "colab": {
          "base_uri": "https://localhost:8080/"
        },
        "id": "tw2P0KwpI2vX",
        "outputId": "f333165a-b4fe-4db3-8fd5-94fa75630f14"
      },
      "outputs": [
        {
          "name": "stdout",
          "output_type": "stream",
          "text": [
            "900\n",
            "902\n",
            "904\n",
            "906\n",
            "908\n",
            "910\n",
            "912\n",
            "914\n",
            "916\n",
            "918\n",
            "920\n",
            "922\n",
            "924\n",
            "926\n",
            "928\n",
            "930\n",
            "932\n",
            "934\n",
            "936\n",
            "938\n",
            "940\n",
            "942\n",
            "944\n",
            "946\n",
            "948\n",
            "950\n",
            "952\n",
            "954\n",
            "956\n",
            "958\n",
            "960\n",
            "962\n",
            "964\n",
            "966\n",
            "968\n",
            "970\n",
            "972\n",
            "974\n",
            "976\n",
            "978\n",
            "980\n",
            "982\n",
            "984\n",
            "986\n",
            "988\n",
            "990\n",
            "992\n",
            "994\n",
            "996\n",
            "998\n"
          ]
        }
      ],
      "source": [
        "for i in range(900, 1000, 2):\n",
        "    print(i)"
      ]
    },
    {
      "cell_type": "markdown",
      "metadata": {
        "id": "tj6zSb2M7zLL"
      },
      "source": [
        "We can see how it printed until 998 (as it was shown, we take until one number prior; if we would like to include 1000, it should be at least until 1001).\n"
      ]
    },
    {
      "cell_type": "markdown",
      "metadata": {
        "id": "bINzUaMU8NXL"
      },
      "source": [
        "We can take advantage of the default arguments of the range() function for the following example, where we take the numbers from 0 to 10000 and we count all of them which are multiple of 33."
      ]
    },
    {
      "cell_type": "code",
      "execution_count": null,
      "metadata": {
        "colab": {
          "base_uri": "https://localhost:8080/"
        },
        "id": "r7trlV1HAl0x",
        "outputId": "7418b778-8f64-4efc-c003-394a157b63c4"
      },
      "outputs": [
        {
          "name": "stdout",
          "output_type": "stream",
          "text": [
            "304\n"
          ]
        }
      ],
      "source": [
        "counter = 0\n",
        "\n",
        "for i in range(10000):\n",
        "    if (i % 33 == 0): # residual == 0?\n",
        "        counter += 1\n",
        "\n",
        "#show counter\n",
        "print(counter)"
      ]
    },
    {
      "cell_type": "markdown",
      "metadata": {
        "id": "ged0cwjO8xCh"
      },
      "source": [
        "For loops are used for excellence to go over arrays, lists or matrices, as their dimensions are fixed values, and allow to iterate its elements at please."
      ]
    },
    {
      "cell_type": "code",
      "execution_count": null,
      "metadata": {
        "colab": {
          "base_uri": "https://localhost:8080/"
        },
        "id": "0o0S2rWrCiQ_",
        "outputId": "229846f2-0f0b-4ce7-c878-3a351d3cffca"
      },
      "outputs": [
        {
          "name": "stdout",
          "output_type": "stream",
          "text": [
            "8\n",
            "10\n",
            "23\n",
            "17\n",
            "15\n"
          ]
        }
      ],
      "source": [
        "a = [8, 10, 23, 17, 15] #list of numbers\n",
        "\n",
        "for i in range(len(a)):\n",
        "  print(a[i])"
      ]
    },
    {
      "cell_type": "markdown",
      "metadata": {
        "id": "izZJYSAT9ojn"
      },
      "source": [
        "It's important to note how len(a) returns the number of elements, but in Python, the index goes from zero, that's why all of the elements were printed. Let's see the difference:"
      ]
    },
    {
      "cell_type": "code",
      "execution_count": null,
      "metadata": {
        "colab": {
          "base_uri": "https://localhost:8080/"
        },
        "id": "bQtDFIsyDTMz",
        "outputId": "eec83929-1928-4e32-f488-275d14f744a2"
      },
      "outputs": [
        {
          "data": {
            "text/plain": [
              "5"
            ]
          },
          "execution_count": 14,
          "metadata": {},
          "output_type": "execute_result"
        }
      ],
      "source": [
        "len(a)"
      ]
    },
    {
      "cell_type": "code",
      "execution_count": null,
      "metadata": {
        "colab": {
          "base_uri": "https://localhost:8080/"
        },
        "id": "cHLdaslmDL12",
        "outputId": "7b272356-882a-4ab6-b773-d4f77e770f89"
      },
      "outputs": [
        {
          "name": "stdout",
          "output_type": "stream",
          "text": [
            "8\n",
            "10\n",
            "23\n",
            "17\n"
          ]
        }
      ],
      "source": [
        "for i in range(4):\n",
        "  print(a[i])"
      ]
    },
    {
      "cell_type": "code",
      "execution_count": null,
      "metadata": {
        "colab": {
          "base_uri": "https://localhost:8080/"
        },
        "id": "h2v8nwl3DQ4j",
        "outputId": "94e2043e-ee1d-415b-a31a-baa25bfb7895"
      },
      "outputs": [
        {
          "name": "stdout",
          "output_type": "stream",
          "text": [
            "8\n",
            "10\n",
            "23\n",
            "17\n",
            "15\n"
          ]
        }
      ],
      "source": [
        "for i in range(5):\n",
        "  print(a[i])"
      ]
    },
    {
      "cell_type": "markdown",
      "metadata": {
        "id": "50Zi69eu96KX"
      },
      "source": [
        "Then, as we have nested conditionals, we can also have nested loops, where each iteration of the external loops makes one full iteration of the internal loop. Combining it with the things said before, let's see an example with a matrix (list of lists):"
      ]
    },
    {
      "cell_type": "code",
      "execution_count": null,
      "metadata": {
        "colab": {
          "base_uri": "https://localhost:8080/"
        },
        "id": "MSXwFy5vDXqR",
        "outputId": "28e9e6a9-a844-4821-d40f-894e3d4f5a48"
      },
      "outputs": [
        {
          "data": {
            "text/plain": [
              "[[1, 3, 4], [5, 6, 7], [8, 9, 2]]"
            ]
          },
          "execution_count": 17,
          "metadata": {},
          "output_type": "execute_result"
        }
      ],
      "source": [
        "M = [[1,3,4],[5,6,7],[8,9,2]]\n",
        "M"
      ]
    },
    {
      "cell_type": "code",
      "execution_count": null,
      "metadata": {
        "colab": {
          "base_uri": "https://localhost:8080/"
        },
        "id": "A6PWVZ4tDwdR",
        "outputId": "7521a464-14bb-41ae-a512-29f3cd9dee93"
      },
      "outputs": [
        {
          "name": "stdout",
          "output_type": "stream",
          "text": [
            "Row 0, Column 0: 1\n",
            "Row 0, Column 1: 3\n",
            "Row 0, Column 2: 4\n",
            "Row 1, Column 0: 5\n",
            "Row 1, Column 1: 6\n",
            "Row 1, Column 2: 7\n",
            "Row 2, Column 0: 8\n",
            "Row 2, Column 1: 9\n",
            "Row 2, Column 2: 2\n"
          ]
        }
      ],
      "source": [
        "for i in range(3): # Rows\n",
        "  for j in range(3): # Columns\n",
        "    print(\"Row \" + str(i) + \", Column \" + str(j) + \": \" + str(M[i][j]))"
      ]
    },
    {
      "cell_type": "markdown",
      "metadata": {
        "id": "IzPHUa_v6ISP"
      },
      "source": [
        "### Examples\n",
        "\n",
        "Write a program that prints the numbers from 1 to 100, but for multiples of three, print \"Fizz\" instead of the number, and for multiples of five, print \"Buzz\".\n",
        "\n",
        "For numbers that are multiples of both three and five, print \"FizzBuzz\""
      ]
    },
    {
      "cell_type": "code",
      "execution_count": null,
      "metadata": {
        "colab": {
          "base_uri": "https://localhost:8080/"
        },
        "id": "o81STarR6X0W",
        "outputId": "ebae7b6f-c2cd-4b35-b7ff-29ad28328e5b"
      },
      "outputs": [
        {
          "name": "stdout",
          "output_type": "stream",
          "text": [
            "1\n",
            "2\n",
            "Fizz\n",
            "4\n",
            "Buzz\n",
            "Fizz\n",
            "7\n",
            "8\n",
            "Fizz\n",
            "Buzz\n",
            "11\n",
            "Fizz\n",
            "13\n",
            "14\n",
            "FizzBuzz\n",
            "16\n",
            "17\n",
            "Fizz\n",
            "19\n",
            "Buzz\n",
            "Fizz\n",
            "22\n",
            "23\n",
            "Fizz\n",
            "Buzz\n",
            "26\n",
            "Fizz\n",
            "28\n",
            "29\n",
            "FizzBuzz\n",
            "31\n",
            "32\n",
            "Fizz\n",
            "34\n",
            "Buzz\n",
            "Fizz\n",
            "37\n",
            "38\n",
            "Fizz\n",
            "Buzz\n",
            "41\n",
            "Fizz\n",
            "43\n",
            "44\n",
            "FizzBuzz\n",
            "46\n",
            "47\n",
            "Fizz\n",
            "49\n",
            "Buzz\n",
            "Fizz\n",
            "52\n",
            "53\n",
            "Fizz\n",
            "Buzz\n",
            "56\n",
            "Fizz\n",
            "58\n",
            "59\n",
            "FizzBuzz\n",
            "61\n",
            "62\n",
            "Fizz\n",
            "64\n",
            "Buzz\n",
            "Fizz\n",
            "67\n",
            "68\n",
            "Fizz\n",
            "Buzz\n",
            "71\n",
            "Fizz\n",
            "73\n",
            "74\n",
            "FizzBuzz\n",
            "76\n",
            "77\n",
            "Fizz\n",
            "79\n",
            "Buzz\n",
            "Fizz\n",
            "82\n",
            "83\n",
            "Fizz\n",
            "Buzz\n",
            "86\n",
            "Fizz\n",
            "88\n",
            "89\n",
            "FizzBuzz\n",
            "91\n",
            "92\n",
            "Fizz\n",
            "94\n",
            "Buzz\n",
            "Fizz\n",
            "97\n",
            "98\n",
            "Fizz\n",
            "Buzz\n"
          ]
        }
      ],
      "source": [
        "for i in range(1, 101):\n",
        "    if i % 3 == 0 and i % 5 == 0: #and operator included\n",
        "        print(\"FizzBuzz\")\n",
        "    elif i % 3 == 0:\n",
        "        print(\"Fizz\")\n",
        "    elif i % 5 == 0:\n",
        "        print(\"Buzz\")\n",
        "    else:\n",
        "        print(i)"
      ]
    },
    {
      "cell_type": "markdown",
      "metadata": {
        "id": "kTLG_SFk6hGE"
      },
      "source": [
        "Write a program that prompts the user to enter a positive integer, and then calculates the sum of all integers from 1 to the entered number."
      ]
    },
    {
      "cell_type": "code",
      "execution_count": null,
      "metadata": {
        "colab": {
          "base_uri": "https://localhost:8080/"
        },
        "id": "Ap2lBO_u6sO4",
        "outputId": "24e903f6-4260-4ec1-cffa-563f3e7ec507"
      },
      "outputs": [
        {
          "name": "stdout",
          "output_type": "stream",
          "text": [
            "Enter a positive integer: 6\n",
            "The sum of integers from 1 to 6 is: 21\n"
          ]
        }
      ],
      "source": [
        "num = int(input(\"Enter a positive integer: \"))\n",
        "sum = 0\n",
        "\n",
        "# check if num is positive\n",
        "if num <= 0:\n",
        "    print(\"Invalid input! Please enter a positive integer.\")\n",
        "else:\n",
        "    # calculate the sum of integers from 1 to num\n",
        "    for i in range(1, num+1):\n",
        "        sum += i\n",
        "\n",
        "    print(\"The sum of integers from 1 to {} is: {}\".format(num, sum))"
      ]
    },
    {
      "cell_type": "markdown",
      "metadata": {
        "id": "Zmbmyj986zo5"
      },
      "source": [
        "Generates a random number between 1 and 100, and prompts the user to guess the number.\n",
        "\n",
        "If the guess is too high, the program should print \"Too high\", if the guess is too low, the program should print \"Too low\", and if the guess is correct, the program should print \"Congratulations!\" and exit the loop:"
      ]
    },
    {
      "cell_type": "code",
      "execution_count": null,
      "metadata": {
        "colab": {
          "base_uri": "https://localhost:8080/"
        },
        "id": "Z4W-qRsg652N",
        "outputId": "811a8a7c-6b91-4371-864b-4cc48119b28a"
      },
      "outputs": [
        {
          "name": "stdout",
          "output_type": "stream",
          "text": [
            "Guess the number (between 1 and 100): 10\n",
            "Too low! Guess again.\n",
            "Guess the number (between 1 and 100): 30\n",
            "Too low! Guess again.\n",
            "Guess the number (between 1 and 100): 60\n",
            "Too high! Guess again.\n",
            "Guess the number (between 1 and 100): 50\n",
            "Too low! Guess again.\n",
            "Guess the number (between 1 and 100): 55\n",
            "Too low! Guess again.\n",
            "Guess the number (between 1 and 100): 56\n",
            "Too low! Guess again.\n",
            "Guess the number (between 1 and 100): 58\n",
            "Too low! Guess again.\n",
            "Guess the number (between 1 and 100): 59\n",
            "Congratulations! You guessed the number.\n"
          ]
        }
      ],
      "source": [
        "import random\n",
        "\n",
        "# generate a random number between 1 and 100\n",
        "num = random.randint(1, 100)\n",
        "\n",
        "# loop until the user guesses the number\n",
        "while True:\n",
        "    guess = int(input(\"Guess the number (between 1 and 100): \"))\n",
        "\n",
        "    # check if the guess is correct\n",
        "    if guess == num:\n",
        "        print(\"Congratulations! You guessed the number.\")\n",
        "        break\n",
        "\n",
        "    # check if the guess is too high\n",
        "    elif guess > num:\n",
        "        print(\"Too high! Guess again.\")\n",
        "\n",
        "    # check if the guess is too low\n",
        "    else:\n",
        "        print(\"Too low! Guess again.\")"
      ]
    },
    {
      "cell_type": "markdown",
      "metadata": {
        "id": "m-YEl-Mu7MWR"
      },
      "source": [
        "Write a program that generates a multiplication table for all numbers between 1 and 10. (see [.format()](https://www.geeksforgeeks.org/python-string-format-method/) method)"
      ]
    },
    {
      "cell_type": "code",
      "execution_count": null,
      "metadata": {
        "colab": {
          "base_uri": "https://localhost:8080/"
        },
        "id": "RkhTLaiO7o76",
        "outputId": "c361bfce-27d5-43e5-855c-265b2b12d9c6"
      },
      "outputs": [
        {
          "name": "stdout",
          "output_type": "stream",
          "text": [
            "   1   2   3   4   5   6   7   8   9  10\n",
            "   2   4   6   8  10  12  14  16  18  20\n",
            "   3   6   9  12  15  18  21  24  27  30\n",
            "   4   8  12  16  20  24  28  32  36  40\n",
            "   5  10  15  20  25  30  35  40  45  50\n",
            "   6  12  18  24  30  36  42  48  54  60\n",
            "   7  14  21  28  35  42  49  56  63  70\n",
            "   8  16  24  32  40  48  56  64  72  80\n",
            "   9  18  27  36  45  54  63  72  81  90\n",
            "  10  20  30  40  50  60  70  80  90 100\n"
          ]
        }
      ],
      "source": [
        "for i in range(1, 11):\n",
        "    for j in range(1, 11):\n",
        "        print(\"{:4d}\".format(i*j), end=\"\")\n",
        "    print()"
      ]
    },
    {
      "cell_type": "code",
      "execution_count": null,
      "metadata": {
        "id": "glUOgM5V4ed2"
      },
      "outputs": [],
      "source": []
    },
    {
      "cell_type": "markdown",
      "metadata": {
        "id": "d8f745fc"
      },
      "source": [
        "\n",
        "## 🧠 Sección 1: Actividades para Comprender Mejor los Ciclos\n",
        "\n",
        "Estas actividades te ayudarán a dominar el uso de bucles `for` y `while`, así como los conceptos de contador y acumulador.\n"
      ]
    },
    {
      "cell_type": "markdown",
      "metadata": {
        "id": "b6d0db3a"
      },
      "source": [
        "\n",
        "### 🔁 Actividad 1: Contador de múltiplos\n",
        "\n",
        "Usa un bucle `for` para contar cuántos múltiplos de 3 hay entre 1 y 100.\n"
      ]
    },
    {
      "cell_type": "code",
      "execution_count": null,
      "metadata": {
        "id": "9948ed70"
      },
      "outputs": [],
      "source": [
        "\n",
        "contador = 0\n",
        "\n",
        "for i in range(1, 101):\n",
        "    if i % 3 == 0:\n",
        "        contador += 1\n",
        "\n",
        "print(\"Cantidad de múltiplos de 3 entre 1 y 100:\", contador)\n"
      ]
    },
    {
      "cell_type": "markdown",
      "metadata": {
        "id": "dd281df5"
      },
      "source": [
        "\n",
        "### 🔢 Actividad 2: Suma de los primeros N números\n",
        "\n",
        "Pide al usuario un número `n` y suma los primeros `n` números usando un `while`.\n"
      ]
    },
    {
      "cell_type": "code",
      "execution_count": null,
      "metadata": {
        "id": "924bac76"
      },
      "outputs": [],
      "source": [
        "\n",
        "n = 5  # Puedes cambiar este valor\n",
        "contador = 1\n",
        "suma = 0\n",
        "\n",
        "while contador <= n:\n",
        "    suma += contador\n",
        "    contador += 1\n",
        "\n",
        "print(\"Suma de los primeros\", n, \"números:\", suma)\n"
      ]
    },
    {
      "cell_type": "markdown",
      "metadata": {
        "id": "5f185bb1"
      },
      "source": [
        "\n",
        "### 🧪 Actividad 3: Imprimir una tabla de multiplicar\n",
        "\n",
        "Usa un bucle para imprimir la tabla de multiplicar del número que tú elijas.\n"
      ]
    },
    {
      "cell_type": "code",
      "execution_count": null,
      "metadata": {
        "id": "db3a0516"
      },
      "outputs": [],
      "source": [
        "\n",
        "numero = 7  # Puedes cambiar este número\n",
        "\n",
        "for i in range(1, 11):\n",
        "    print(numero, \"x\", i, \"=\", numero * i)\n"
      ]
    },
    {
      "cell_type": "markdown",
      "metadata": {
        "id": "b69e9ff0"
      },
      "source": [
        "\n",
        "## ⚛️ Sección 2: Ciclos y Computación Cuántica (Simulación Básica)\n",
        "\n",
        "Los bucles nos permiten simular procesos repetitivos como múltiples mediciones o generación de estados cuánticos. Aquí veremos algunas representaciones simbólicas útiles.\n"
      ]
    },
    {
      "cell_type": "markdown",
      "metadata": {
        "id": "f2bfe1b4"
      },
      "source": [
        "\n",
        "### 🌀 Ejercicio 1: Simulación de múltiples mediciones\n",
        "\n",
        "Simula la medición de un qubit 10 veces. El qubit tiene un 70% de probabilidad de colapsar a |0⟩.\n"
      ]
    },
    {
      "cell_type": "code",
      "execution_count": null,
      "metadata": {
        "id": "9343f561"
      },
      "outputs": [],
      "source": [
        "\n",
        "import random\n",
        "\n",
        "for i in range(10):\n",
        "    medicion = random.random()\n",
        "    if medicion <= 0.7:\n",
        "        print(f\"Medición {i+1}: |0⟩\")\n",
        "    else:\n",
        "        print(f\"Medición {i+1}: |1⟩\")\n"
      ]
    },
    {
      "cell_type": "markdown",
      "metadata": {
        "id": "956cad4a"
      },
      "source": [
        "\n",
        "### 🔄 Ejercicio 2: Secuencia de estados simbólicos\n",
        "\n",
        "Crea una lista de estados |0⟩, |1⟩, |+⟩ y repítela 5 veces usando un bucle.\n"
      ]
    },
    {
      "cell_type": "code",
      "execution_count": null,
      "metadata": {
        "id": "d22746dc"
      },
      "outputs": [],
      "source": [
        "\n",
        "estados = [\"|0⟩\", \"|1⟩\", \"|+⟩\"]\n",
        "\n",
        "for i in range(5):\n",
        "    for estado in estados:\n",
        "        print(f\"Qubit {i+1}: {estado}\")\n"
      ]
    },
    {
      "cell_type": "markdown",
      "source": [
        "## 📈 Sección 3: Exercises"
      ],
      "metadata": {
        "id": "PqmD2nrJ5uxG"
      }
    },
    {
      "cell_type": "markdown",
      "metadata": {
        "id": "6cEQ4HEN4ODA"
      },
      "source": [
        "### Exercise 1\n",
        "\n",
        "Write a code that ask the user to enter an integer number every time, and the process will be repeated with more numbers until the user enters a zero.\n",
        "\n",
        "At the end (when the zero is entered), show the amount of numbers entered."
      ]
    },
    {
      "cell_type": "markdown",
      "metadata": {
        "id": "8s-BFauy5BkM"
      },
      "source": [
        "### Exercise 2\n",
        "Use the input() function to ask for the user to enter one integer number. Only if the number is even, it will be accumulated.\n",
        "\n",
        "The program must come to an end if the sum of the numbers surpasses 50 or if the user enters a maximum of 10 numbers."
      ]
    },
    {
      "cell_type": "markdown",
      "metadata": {
        "id": "wcgoiWX_4nwL"
      },
      "source": [
        "Developed by:\n",
        "\n",
        "- Brian Patino Agudelo - bpatinoa@unal.edu.co\n",
        "\n",
        "- Andrés Marino Álvarez Meza - amalvarezme@unal.edu.co\n",
        "\n",
        "- César Germán Castellanos Domínguez - cgcastellanosd@unal.edu.co"
      ]
    }
  ],
  "metadata": {
    "colab": {
      "provenance": []
    },
    "kernelspec": {
      "display_name": "Python 3",
      "name": "python3"
    },
    "language_info": {
      "name": "python"
    }
  },
  "nbformat": 4,
  "nbformat_minor": 0
}
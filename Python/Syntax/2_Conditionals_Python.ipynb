{
  "cells": [
    {
      "cell_type": "markdown",
      "metadata": {
        "id": "VTg9sEC1C3SO"
      },
      "source": [
        "## 🧩 Sección 0: Introducción\n",
        "\n",
        "In this section you'll understand all the concepts about conditionals\n"
      ]
    },
    {
      "cell_type": "markdown",
      "metadata": {
        "id": "Rk_VXygMC7mm"
      },
      "source": [
        "To perform conditionals in Python, we need to consider that the indentation defines each section of code to be executed.\n",
        "\n",
        "We don't use curly braces or any separator here; instead, we control it with indentation using \"Tab\" characters.\n",
        "\n",
        "Additionally, both the \"if\" and \"else\" statements must end with a colon (not including them will result in a syntax error)."
      ]
    },
    {
      "cell_type": "code",
      "execution_count": null,
      "metadata": {
        "colab": {
          "base_uri": "https://localhost:8080/"
        },
        "id": "W1DdfxlTCEjM",
        "outputId": "e6da8f54-8d5f-40eb-900b-0405f7a054d0"
      },
      "outputs": [
        {
          "name": "stdout",
          "output_type": "stream",
          "text": [
            "The condition is true.\n",
            "\n"
          ]
        }
      ],
      "source": [
        "a = True\n",
        "\n",
        "if a:\n",
        "  print(\"The condition is true.\\n\")#tab is included here\n",
        "else:\n",
        "  print(\"The condition is false.\\n\")#tab is included here"
      ]
    },
    {
      "cell_type": "code",
      "execution_count": null,
      "metadata": {
        "colab": {
          "base_uri": "https://localhost:8080/"
        },
        "id": "MQGsGj6xDu4n",
        "outputId": "ea97ece3-c9c5-43c7-e6f1-e7139b47ab7d"
      },
      "outputs": [
        {
          "name": "stdout",
          "output_type": "stream",
          "text": [
            "The condition is false.\n",
            "\n"
          ]
        }
      ],
      "source": [
        "\n",
        "a = False\n",
        "\n",
        "if a:\n",
        "  print(\"The condition is true.\\n\")\n",
        "else:\n",
        "  print(\"The condition is false.\\n\")"
      ]
    },
    {
      "cell_type": "markdown",
      "metadata": {
        "id": "frC0vy0CDxxC"
      },
      "source": [
        "Recalling that boolean variables have their equivalent in integers, we could also perform the conditional in the following way:"
      ]
    },
    {
      "cell_type": "code",
      "execution_count": null,
      "metadata": {
        "colab": {
          "base_uri": "https://localhost:8080/"
        },
        "id": "xyRIhIhvD6Pa",
        "outputId": "37663186-f624-4355-acbc-a206c4b80fe8"
      },
      "outputs": [
        {
          "name": "stdout",
          "output_type": "stream",
          "text": [
            "The condition is true.\n",
            "\n"
          ]
        }
      ],
      "source": [
        "a = 5\n",
        "\n",
        "if a: #a as an int variable\n",
        "  print(\"The condition is true.\\n\")\n",
        "else:\n",
        "  print(\"The condition is false.\\n\")"
      ]
    },
    {
      "cell_type": "code",
      "execution_count": null,
      "metadata": {
        "colab": {
          "base_uri": "https://localhost:8080/"
        },
        "id": "DbzDH0qwD8QQ",
        "outputId": "a75b4c52-a06d-4aad-8fc3-49eac57d8f83"
      },
      "outputs": [
        {
          "name": "stdout",
          "output_type": "stream",
          "text": [
            "The condition is false.\n",
            "\n"
          ]
        }
      ],
      "source": [
        "a = 0\n",
        "\n",
        "if a:\n",
        "  print(\"The condition is true.\\n\")\n",
        "else:\n",
        "  print(\"The condition is false.\\n\")"
      ]
    },
    {
      "cell_type": "markdown",
      "metadata": {
        "id": "fNWEc7KmEDj4"
      },
      "source": [
        "\n",
        "Many times it is necessary to use nested if statements. For this, the \"elif\" statement is very useful."
      ]
    },
    {
      "cell_type": "code",
      "execution_count": null,
      "metadata": {
        "colab": {
          "base_uri": "https://localhost:8080/"
        },
        "id": "OP3rdF2nD_eX",
        "outputId": "129cb97d-ff0c-4fcb-df42-3cb3d990824a"
      },
      "outputs": [
        {
          "name": "stdout",
          "output_type": "stream",
          "text": [
            "Condition 1 is true.\n",
            "\n"
          ]
        }
      ],
      "source": [
        "\n",
        "a = True\n",
        "b = True\n",
        "\n",
        "if a:\n",
        "  print(\"Condition 1 is true.\\n\")\n",
        "elif b:\n",
        "  print(\"Condition 2 is true.\\n\")\n"
      ]
    },
    {
      "cell_type": "code",
      "execution_count": null,
      "metadata": {
        "colab": {
          "base_uri": "https://localhost:8080/"
        },
        "id": "MAPP8N-GEuiO",
        "outputId": "e7254696-5cd0-49fe-c2ba-316cf49a2652"
      },
      "outputs": [
        {
          "name": "stdout",
          "output_type": "stream",
          "text": [
            "Condition 2 is true.\n",
            "\n"
          ]
        }
      ],
      "source": [
        "a = False\n",
        "b = True\n",
        "\n",
        "if a:\n",
        "  print(\"Condition 1 is true.\\n\")\n",
        "elif b:\n",
        "  print(\"Condition 2 is true.\\n\")\n"
      ]
    },
    {
      "cell_type": "markdown",
      "metadata": {
        "id": "MI1yZs1eExGO"
      },
      "source": [
        "In this case, we first check if condition a is true, but if not, we don't directly print the second message. Instead, we now check if condition b is true or not (the second condition is only evaluated if the first one was not true).\n",
        "\n",
        "We can add an else statement at the end, which would be executed if none of the previous conditions are true (the final option)."
      ]
    },
    {
      "cell_type": "code",
      "execution_count": null,
      "metadata": {
        "colab": {
          "base_uri": "https://localhost:8080/"
        },
        "id": "FghUVGjVFRZM",
        "outputId": "175c3714-261f-4d15-e6f2-9a2ced80c422"
      },
      "outputs": [
        {
          "name": "stdout",
          "output_type": "stream",
          "text": [
            "Condition 2 is true.\n",
            "\n"
          ]
        }
      ],
      "source": [
        "\n",
        "a = False\n",
        "b = True\n",
        "\n",
        "if a:\n",
        "  print(\"Condition 1 is true.\\n\")\n",
        "elif b:\n",
        "  print(\"Condition 2 is true.\\n\")\n",
        "else:\n",
        "  print(\"Both conditions are false.\\n\")"
      ]
    },
    {
      "cell_type": "code",
      "execution_count": null,
      "metadata": {
        "colab": {
          "base_uri": "https://localhost:8080/"
        },
        "id": "A5QLFL4VFZsQ",
        "outputId": "7fe73a60-6f3b-43b6-b232-300f1e1bd837"
      },
      "outputs": [
        {
          "name": "stdout",
          "output_type": "stream",
          "text": [
            "Both conditions are false.\n",
            "\n"
          ]
        }
      ],
      "source": [
        "\n",
        "a = False\n",
        "b = False\n",
        "\n",
        "if a:\n",
        "  print(\"Condition 1 is true.\\n\")\n",
        "elif b:\n",
        "  print(\"Condition 2 is true.\\n\")\n",
        "else:\n",
        "  print(\"Both conditions are false.\\n\")"
      ]
    },
    {
      "cell_type": "markdown",
      "metadata": {
        "id": "P9HDhYXtKX7K"
      },
      "source": [
        "Similarly, we can directly nest the if statements if we only want the subsequent condition to be evaluated if the previous one is true."
      ]
    },
    {
      "cell_type": "code",
      "execution_count": null,
      "metadata": {
        "colab": {
          "base_uri": "https://localhost:8080/"
        },
        "id": "AuBe0qhdKXU7",
        "outputId": "6dec71cd-7fc8-4b08-8a92-23b04b0ae620"
      },
      "outputs": [
        {
          "name": "stdout",
          "output_type": "stream",
          "text": [
            "a and b are true.\n",
            "\n"
          ]
        }
      ],
      "source": [
        "a = True\n",
        "b = True\n",
        "\n",
        "if a:\n",
        "  if b:\n",
        "    print(\"a and b are true.\\n\")#double tab is required here!\n",
        "  else:\n",
        "    print(\"a is true but b is false.\\n\")\n",
        "else:\n",
        "  print(\"a is not true.\\n\")"
      ]
    },
    {
      "cell_type": "code",
      "execution_count": null,
      "metadata": {
        "colab": {
          "base_uri": "https://localhost:8080/"
        },
        "id": "oxH42MDxLIvk",
        "outputId": "d1229715-dde7-4d78-8fd9-c497ed149e7c"
      },
      "outputs": [
        {
          "name": "stdout",
          "output_type": "stream",
          "text": [
            "a is not true.\n",
            "\n"
          ]
        }
      ],
      "source": [
        "a = False\n",
        "b = False\n",
        "\n",
        "if a:\n",
        "  if b:\n",
        "    print(\"a and b are true.\\n\")\n",
        "  else:\n",
        "    print(\"a is true but b is false.\\n\")\n",
        "else:\n",
        "  print(\"a is not true.\\n\")"
      ]
    },
    {
      "cell_type": "code",
      "execution_count": null,
      "metadata": {
        "colab": {
          "base_uri": "https://localhost:8080/"
        },
        "id": "CFjjpC7ILL7D",
        "outputId": "19453a40-67e3-434a-f20d-ecdea62ac288"
      },
      "outputs": [
        {
          "name": "stdout",
          "output_type": "stream",
          "text": [
            "a is not true.\n",
            "\n"
          ]
        }
      ],
      "source": [
        "a = False\n",
        "b = False\n",
        "\n",
        "if a:\n",
        "  if b:\n",
        "    print(\"a and b are true.\\n\")\n",
        "  else:\n",
        "    print(\"a is true but b is false.\\n\")\n",
        "else:\n",
        "  print(\"a is not true.\\n\")"
      ]
    },
    {
      "cell_type": "code",
      "execution_count": null,
      "metadata": {
        "colab": {
          "base_uri": "https://localhost:8080/"
        },
        "id": "2_WzD4IILR6D",
        "outputId": "185e3e72-0885-4840-ea6d-c120d19b5b4a"
      },
      "outputs": [
        {
          "name": "stdout",
          "output_type": "stream",
          "text": [
            "a is not true.\n",
            "\n"
          ]
        }
      ],
      "source": [
        "\n",
        "a = False\n",
        "b = True\n",
        "\n",
        "if a:\n",
        "  if b:\n",
        "    print(\"a and b are true.\\n\")\n",
        "  else:\n",
        "    print(\"a is true but b is false.\\n\")\n",
        "else:\n",
        "  print(\"a is not true.\\n\")"
      ]
    },
    {
      "cell_type": "markdown",
      "metadata": {
        "id": "iVTrietnGmkB"
      },
      "source": [
        "In other languages, the exclamation mark (!) can be used to evaluate the logical negation of a variable.\n",
        "\n",
        "In Python, we can use the keyword \"not\" before the variable to achieve the same effect."
      ]
    },
    {
      "cell_type": "code",
      "execution_count": null,
      "metadata": {
        "colab": {
          "base_uri": "https://localhost:8080/"
        },
        "id": "d9EjgT7nG76A",
        "outputId": "46f613b0-83d6-4d60-8c99-f73615b6ea5a"
      },
      "outputs": [
        {
          "data": {
            "text/plain": [
              "False"
            ]
          },
          "execution_count": 16,
          "metadata": {},
          "output_type": "execute_result"
        }
      ],
      "source": [
        "not True"
      ]
    },
    {
      "cell_type": "code",
      "execution_count": null,
      "metadata": {
        "colab": {
          "base_uri": "https://localhost:8080/"
        },
        "id": "SuMYbT_JG9pK",
        "outputId": "4301fa3f-a46a-4f48-db22-32c548ecd475"
      },
      "outputs": [
        {
          "data": {
            "text/plain": [
              "True"
            ]
          },
          "execution_count": 17,
          "metadata": {},
          "output_type": "execute_result"
        }
      ],
      "source": [
        "not False"
      ]
    },
    {
      "cell_type": "code",
      "execution_count": null,
      "metadata": {
        "colab": {
          "base_uri": "https://localhost:8080/"
        },
        "id": "dHpVP55rG_Rl",
        "outputId": "bea3200c-f8de-4ced-96e5-0cd81f79d793"
      },
      "outputs": [
        {
          "data": {
            "text/plain": [
              "False"
            ]
          },
          "execution_count": 18,
          "metadata": {},
          "output_type": "execute_result"
        }
      ],
      "source": [
        "not 8"
      ]
    },
    {
      "cell_type": "code",
      "execution_count": null,
      "metadata": {
        "colab": {
          "base_uri": "https://localhost:8080/"
        },
        "id": "x3dpCJ2jHBpH",
        "outputId": "73f5f473-fe85-4cec-d3cb-ea2b01cc60b5"
      },
      "outputs": [
        {
          "data": {
            "text/plain": [
              "True"
            ]
          },
          "execution_count": 19,
          "metadata": {},
          "output_type": "execute_result"
        }
      ],
      "source": [
        "not 0"
      ]
    },
    {
      "cell_type": "code",
      "execution_count": null,
      "metadata": {
        "colab": {
          "base_uri": "https://localhost:8080/"
        },
        "id": "26Fu_3KhG0bC",
        "outputId": "c8ba582a-d5e6-4247-8816-bf453ce84bcf"
      },
      "outputs": [
        {
          "name": "stdout",
          "output_type": "stream",
          "text": [
            "Condition 2 is true.\n",
            "\n"
          ]
        }
      ],
      "source": [
        "a = True\n",
        "b = True\n",
        "\n",
        "if not a:\n",
        "  print(\"Condition 1 is true.\\n\")\n",
        "elif b:\n",
        "  print(\"Condition 2 is true.\\n\")\n",
        "else:\n",
        "  print(\"Both conditions are false.\\n\")"
      ]
    },
    {
      "cell_type": "markdown",
      "metadata": {
        "id": "jMy5rePdFjNg"
      },
      "source": [
        "On the other hand, we don't always need to evaluate conditions separately but create logical expressions with them. For this purpose, we have the following operators:\n",
        "\n",
        ". Logical operators: \"or\", \"and\"\n",
        "\n",
        ". Comparison operators: <, >, <=, >=, ==, !="
      ]
    },
    {
      "cell_type": "code",
      "execution_count": null,
      "metadata": {
        "colab": {
          "base_uri": "https://localhost:8080/"
        },
        "id": "wnuvPyZBHVgC",
        "outputId": "d9ae5fa1-c1bc-4c66-ca75-332c803c29a4"
      },
      "outputs": [
        {
          "name": "stdout",
          "output_type": "stream",
          "text": [
            "It's not any value.\n"
          ]
        }
      ],
      "source": [
        "a = False\n",
        "b = False\n",
        "\n",
        "if a or b:\n",
        "  print(\"At least one condition is true.\\n\")\n",
        "else:\n",
        "  print(\"It's not any value.\")"
      ]
    },
    {
      "cell_type": "code",
      "execution_count": null,
      "metadata": {
        "colab": {
          "base_uri": "https://localhost:8080/"
        },
        "id": "xPraa9wBHfR8",
        "outputId": "9a042a8a-e9f7-499a-c968-65f89f684ec1"
      },
      "outputs": [
        {
          "name": "stdout",
          "output_type": "stream",
          "text": [
            "The numbers are different.\n",
            "\n"
          ]
        }
      ],
      "source": [
        "a = 3\n",
        "b = 4\n",
        "\n",
        "if a != b:\n",
        "  print(\"The numbers are different.\\n\")"
      ]
    },
    {
      "cell_type": "code",
      "execution_count": null,
      "metadata": {
        "colab": {
          "base_uri": "https://localhost:8080/"
        },
        "id": "agG1ggz0IBuz",
        "outputId": "28463dd0-ce3e-4f27-c824-017ec05988be"
      },
      "outputs": [
        {
          "name": "stdout",
          "output_type": "stream",
          "text": [
            "The numbers are equal.\n",
            "\n"
          ]
        }
      ],
      "source": [
        "a = 4\n",
        "b = 4\n",
        "\n",
        "if a == b:\n",
        "  print(\"The numbers are equal.\\n\")"
      ]
    },
    {
      "cell_type": "code",
      "execution_count": null,
      "metadata": {
        "colab": {
          "base_uri": "https://localhost:8080/"
        },
        "id": "2WlutQYmIIe3",
        "outputId": "50cddef0-57ad-462d-ff66-902ba9567c7b"
      },
      "outputs": [
        {
          "name": "stdout",
          "output_type": "stream",
          "text": [
            "The order is ascending.\n",
            "\n"
          ]
        }
      ],
      "source": [
        "a = 1\n",
        "b = 2\n",
        "c = 3\n",
        "\n",
        "if a < b < c:\n",
        "  print(\"The order is ascending.\\n\")"
      ]
    },
    {
      "cell_type": "code",
      "execution_count": null,
      "metadata": {
        "colab": {
          "base_uri": "https://localhost:8080/"
        },
        "id": "b3sQXrU0IThJ",
        "outputId": "2c97f0d8-d3db-4d3a-bb77-78e2a63cb8e7"
      },
      "outputs": [
        {
          "name": "stdout",
          "output_type": "stream",
          "text": [
            "8\n"
          ]
        }
      ],
      "source": [
        "a = 3\n",
        "b = 2\n",
        "c = 3\n",
        "\n",
        "if a < b < c:\n",
        "  print(\"The order is ascending.\\n\")\n",
        "else:\n",
        "  print(a + b + c)\n"
      ]
    },
    {
      "cell_type": "markdown",
      "metadata": {
        "id": "AC2xrm2AIcic"
      },
      "source": [
        "When multiple chained comparisons like the previous ones are performed, Python always evaluates them from left to right in pairs."
      ]
    },
    {
      "cell_type": "markdown",
      "metadata": {
        "id": "mAsFtIP5IltC"
      },
      "source": [
        "\n",
        "In more advanced applications, using lists, tuples, dictionaries, or classes, there are other ways to express conditions that are useful for tackling more complex problems.\n",
        "\n",
        "One quick example, not so complex, is the use of the keyword \"in,\" which is used for strings or arrays of numbers."
      ]
    },
    {
      "cell_type": "code",
      "execution_count": null,
      "metadata": {
        "colab": {
          "base_uri": "https://localhost:8080/"
        },
        "id": "yrBhgY0mI9Ci",
        "outputId": "b29b5810-3203-45f9-d0e9-6e130c88ee18"
      },
      "outputs": [
        {
          "name": "stdout",
          "output_type": "stream",
          "text": [
            "a contains the value of b.\n",
            "\n"
          ]
        }
      ],
      "source": [
        "a = [1, 2, 3]\n",
        "b = 2\n",
        "\n",
        "if b in a:\n",
        "  print(\"a contains the value of b.\\n\")\n",
        "else:\n",
        "  print(\"a does not contain the value of b.\\n\")"
      ]
    },
    {
      "cell_type": "code",
      "execution_count": null,
      "metadata": {
        "colab": {
          "base_uri": "https://localhost:8080/"
        },
        "id": "GlFDLbP-JzM0",
        "outputId": "85bd4d57-9fcf-4579-b659-2783a64ab292"
      },
      "outputs": [
        {
          "name": "stdout",
          "output_type": "stream",
          "text": [
            "a does not contain the value of b.\n",
            "\n"
          ]
        }
      ],
      "source": [
        "a = [1, 2, 3]\n",
        "b = 4\n",
        "\n",
        "if b in a:\n",
        "  print(\"a contains the value of b.\\n\")\n",
        "else:\n",
        "  print(\"a does not contain the value of b.\\n\")"
      ]
    },
    {
      "cell_type": "code",
      "execution_count": null,
      "metadata": {
        "colab": {
          "base_uri": "https://localhost:8080/"
        },
        "id": "mvgyY8s2J2jN",
        "outputId": "f33de744-f8c0-4e5d-f1ac-acaa64e3a536"
      },
      "outputs": [
        {
          "name": "stdout",
          "output_type": "stream",
          "text": [
            "Word not found\n"
          ]
        }
      ],
      "source": [
        "if(\"Hi\" in \"this is a good example\"):\n",
        "  print(\"Word found.\\n\")\n",
        "else:\n",
        "  print(\"Word not found\")"
      ]
    },
    {
      "cell_type": "markdown",
      "metadata": {
        "id": "a5b79634"
      },
      "source": [
        "\n",
        "## 🧠 Sección 1: Actividades para Comprender Mejor los Condicionales\n",
        "\n",
        "Estas actividades te permitirán entender cómo funcionan las decisiones en Python usando condicionales (`if`, `else`, `elif`).\n"
      ]
    },
    {
      "cell_type": "markdown",
      "metadata": {
        "id": "34eb0286"
      },
      "source": [
        "\n",
        "### 🧪 Actividad 1: ¿Es mayor de edad?\n",
        "\n",
        "Crea una variable llamada `edad`. Escribe un condicional que imprima si la persona es mayor o menor de edad (mayor de edad si tiene 18 o más años).\n"
      ]
    },
    {
      "cell_type": "code",
      "execution_count": null,
      "metadata": {
        "id": "14dc4536"
      },
      "outputs": [],
      "source": [
        "\n",
        "edad = 16  # Puedes cambiar este valor\n",
        "\n",
        "# Escribe aquí tu condicional\n",
        "if edad >= 18:\n",
        "    print(\"Eres mayor de edad.\")\n",
        "else:\n",
        "    print(\"Eres menor de edad.\")\n"
      ]
    },
    {
      "cell_type": "markdown",
      "metadata": {
        "id": "da7a4b5a"
      },
      "source": [
        "\n",
        "### 🧪 Actividad 2: Clasificación de nota\n",
        "\n",
        "Dada una variable `nota`, escribe condicionales que clasifiquen la calificación así:\n",
        "\n",
        "- \"Excelente\" si es mayor o igual a 90\n",
        "- \"Buena\" si está entre 70 y 89\n",
        "- \"Regular\" si está entre 50 y 69\n",
        "- \"Reprobado\" si es menor a 50\n"
      ]
    },
    {
      "cell_type": "code",
      "execution_count": null,
      "metadata": {
        "id": "0f06dabd"
      },
      "outputs": [],
      "source": [
        "\n",
        "nota = 75  # Puedes cambiar este valor\n",
        "\n",
        "# Escribe tu serie de condicionales aquí\n",
        "if nota >= 90:\n",
        "    print(\"Excelente\")\n",
        "elif nota >= 70:\n",
        "    print(\"Buena\")\n",
        "elif nota >= 50:\n",
        "    print(\"Regular\")\n",
        "else:\n",
        "    print(\"Reprobado\")\n"
      ]
    },
    {
      "cell_type": "markdown",
      "metadata": {
        "id": "39bee8ad"
      },
      "source": [
        "\n",
        "## ⚛️ Sección 2: Condicionales y Computación Cuántica (Simulación Básica)\n",
        "\n",
        "Los condicionales también nos ayudan a simular procesos cuánticos simples, como medir un qubit o decidir un resultado en base a su estado. Aquí verás algunos ejemplos.\n"
      ]
    },
    {
      "cell_type": "markdown",
      "metadata": {
        "id": "010f3151"
      },
      "source": [
        "\n",
        "### 🧬 Ejercicio 1: Medición de un qubit (simulado)\n",
        "\n",
        "Supón que un qubit tiene una probabilidad de 0.7 de colapsar a |0⟩ y 0.3 a |1⟩. Simula una medición aleatoria y usa un condicional para imprimir el resultado.\n"
      ]
    },
    {
      "cell_type": "code",
      "execution_count": null,
      "metadata": {
        "id": "b9ce09be"
      },
      "outputs": [],
      "source": [
        "import random\n",
        "\n",
        "# Simular una medición cuántica (solo de forma simbólica)\n",
        "medicion = random.random()  # Número entre 0.0 y 1.0\n",
        "\n",
        "if medicion <= 0.7:\n",
        "    print(\"El qubit colapsó al estado |0⟩\")\n",
        "else:\n",
        "    print(\"El qubit colapsó al estado |1⟩\")\n"
      ]
    },
    {
      "cell_type": "markdown",
      "metadata": {
        "id": "ce18d663"
      },
      "source": [
        "\n",
        "### 🔀 Ejercicio 2: Decisión basada en estado cuántico\n",
        "\n",
        "Supón que recibes un estado de entrada. Si es |+⟩ (superposición), debes mostrar un mensaje especial; si no, mostrar el estado recibido.\n"
      ]
    },
    {
      "cell_type": "code",
      "execution_count": null,
      "metadata": {
        "id": "17e5432e"
      },
      "outputs": [],
      "source": [
        "\n",
        "estado = \"|+⟩\"  # Puedes cambiarlo a \"|0⟩\", \"|1⟩\", etc.\n",
        "\n",
        "if estado == \"|+⟩\":\n",
        "    print(\"Estado en superposición detectado.\")\n",
        "else:\n",
        "    print(\"Estado clásico recibido:\", estado)\n"
      ]
    },
    {
      "cell_type": "markdown",
      "metadata": {
        "id": "fO1RHJGAiIp2"
      },
      "source": [
        "\n",
        "## 📈 Sección 3: Exercises"
      ]
    },
    {
      "cell_type": "markdown",
      "source": [
        "1. In order to pay a certain tax, you must be over 16 years old and have a monthly income equal to or greater than €1000. Write a program that asks the user for their age and monthly income, and displays whether the user has to pay the tax or not."
      ],
      "metadata": {
        "id": "Hro5Avtkz8K1"
      }
    },
    {
      "cell_type": "markdown",
      "source": [
        "2. The Bella Napoli pizzeria offers vegetarian and non-vegetarian pizzas to its customers. The ingredients for each type of pizza are as follows:\n",
        "\n",
        "Vegetarian ingredients: Bell peppers and tofu.\n",
        "\n",
        "Non-vegetarian ingredients: Pepperoni, Ham, and Salmon.\n",
        "\n",
        "Write a program that asks the user if they want a vegetarian pizza or not, and based on their response, displays a menu with the available ingredients for them to choose from. Only one additional ingredient can be chosen besides the mozzarella and tomato, which are included in all pizzas. Finally, the program should display whether the chosen pizza is vegetarian or not, along with all the ingredients it contains."
      ],
      "metadata": {
        "id": "e811zAI4z_Qw"
      }
    },
    {
      "cell_type": "markdown",
      "metadata": {
        "id": "QQg2r04O174w"
      },
      "source": [
        "Developed by:\n",
        "\n",
        "- Brian Patino Agudelo - bpatinoa@unal.edu.co\n",
        "\n",
        "- Andrés Marino Álvarez Meza - amalvarezme@unal.edu.co\n",
        "\n",
        "- César Germán Castellanos Domínguez - cgcastellanosd@unal.edu.co"
      ]
    }
  ],
  "metadata": {
    "colab": {
      "provenance": []
    },
    "kernelspec": {
      "display_name": "Python 3",
      "name": "python3"
    },
    "language_info": {
      "name": "python"
    }
  },
  "nbformat": 4,
  "nbformat_minor": 0
}